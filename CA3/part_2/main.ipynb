{
 "cells": [
  {
   "cell_type": "markdown",
   "metadata": {},
   "source": [
    "8. In some cases, it is necessary to efficiently perform insertion or removal of elements  both at the beginning and at the end of the collection. Measure the time for the following operations with N = 10 000, 20 000 y 30 000 elements: \n",
    "- Delete last element of a list via pop() \n",
    "- Delete first element of a list via pop(0) \n",
    "- Append 1 at the end of the list. \n",
    "- Insert 1 at the beginning of the list insert(0, 1) \n",
    "\n",
    "Make a table with your results. It should looks like table on Chapter 2: Pure Python Optimization (pp. 38) from the book G. Lenaro (2017). Python high Performance. Second Edition. UK: Packt Publishing Ltd. "
   ]
  },
  {
   "cell_type": "code",
   "execution_count": 4,
   "metadata": {},
   "outputs": [
    {
     "name": "stdout",
     "output_type": "stream",
     "text": [
      "                10000     20000     30000\n",
      "pop()        0.000022  0.000031  0.000024\n",
      "pop(0)       0.001041  0.002403  0.003303\n",
      "append(1)    0.000044  0.000023  0.000031\n",
      "insert(0,1)  0.004106  0.006379  0.009028\n"
     ]
    }
   ],
   "source": [
    "from pandas import DataFrame\n",
    "from timeit import timeit\n",
    "\n",
    "data = [10000,20000,30000]\n",
    "\n",
    "op = {\n",
    "    \"pop()\" : \"lst.pop()\",\n",
    "    \"pop(0)\" : \"lst.pop(0)\",\n",
    "    \"append(1)\" : \"lst.append(1)\",\n",
    "    \"insert(0,1)\" : \"lst.insert(0,1)\",\n",
    "}\n",
    "\n",
    "results = {_: [] for _ in op}\n",
    "for n in data:\n",
    "    for i,j in op.items():\n",
    "        code = f'lst = list(range({n}))'\n",
    "        results[i].append(timeit(j, setup=code, number=1000))\n",
    "\n",
    "df = DataFrame(results, index=data)\n",
    "df = df.transpose()\n",
    "print(df)"
   ]
  },
  {
   "cell_type": "markdown",
   "metadata": {},
   "source": [
    "9. Python provides a data structure with interesting properties in the collection.deque class. The word deque stands for double-ended queue because this data structure is designed to efficiently put and remove elements at the beginning and at the end of the collection. Evaluate the following methods with N = 10 000, 20 000 and 30 000 elements: \n",
    "- deque.pop() \n",
    "- deque.popleft() \n",
    "- deque.append(1) \n",
    "- deque.appendleft(1) \n",
    "\n",
    "Make a table with your results. It should looks like table on pp. 39 on the same book \n",
    "as previous task.  "
   ]
  },
  {
   "cell_type": "code",
   "execution_count": 8,
   "metadata": {},
   "outputs": [
    {
     "name": "stdout",
     "output_type": "stream",
     "text": [
      "                  10000     20000     30000\n",
      "pop()          0.000023  0.000035  0.000023\n",
      "popleft()      0.000022  0.000026  0.000031\n",
      "append(1)      0.000022  0.000039  0.000022\n",
      "appendleft(1)  0.000034  0.000033  0.000024\n"
     ]
    }
   ],
   "source": [
    "from pandas import DataFrame\n",
    "from timeit import timeit\n",
    "from collections import deque\n",
    "\n",
    "data = [10000,20000,30000]\n",
    "\n",
    "op = {\n",
    "    \"pop()\" : \"dq.pop()\",\n",
    "    \"popleft()\" : \"dq.popleft()\",\n",
    "    \"append(1)\" : \"dq.append(1)\",\n",
    "    \"appendleft(1)\" : \"dq.appendleft(1)\"\n",
    "}\n",
    "\n",
    "results = {_: [] for _ in op}\n",
    "for n in data:\n",
    "    for i,j in op.items():\n",
    "        code = f\"from collections import deque\\n\" \\\n",
    "                   f\"dq = deque(range({n}))\"\n",
    "        results[i].append(timeit(j, setup=code, number=1000))\n",
    "df = DataFrame(results, index=data)\n",
    "df = df.transpose()\n",
    "print(df)"
   ]
  },
  {
   "cell_type": "markdown",
   "metadata": {},
   "source": [
    "10. The efficiency gained by the appendleft and popleft comes at a cost: accesing an element in the middle of a deque is a O(N) operation. Evaluate the time for the next operations with with N = 10 000, 20 000 and 30 000 elements: \n",
    "- deque[0] \n",
    "- deque[N-1] \n",
    "- deque[int(N/2)] \n",
    "\n",
    "Make a table with your results. It should looks like table on pp. 39 on the same book \n",
    "as previous task."
   ]
  },
  {
   "cell_type": "code",
   "execution_count": 11,
   "metadata": {},
   "outputs": [
    {
     "name": "stdout",
     "output_type": "stream",
     "text": [
      "                    10000     20000     30000\n",
      "deque[]          0.000016  0.000017  0.000026\n",
      "deque[n-1]       0.000029  0.000029  0.000033\n",
      "deque[int(n/2)]  0.000150  0.000299  0.000367\n"
     ]
    }
   ],
   "source": [
    "from pandas import DataFrame\n",
    "from timeit import timeit\n",
    "from collections import deque\n",
    "\n",
    "data = [10000,20000,30000]\n",
    "\n",
    "op = {\n",
    "    \"deque[]\" : \"dq[0]\",\n",
    "    \"deque[n-1]\" : \"dq[n-1]\",\n",
    "    \"deque[int(n/2)]\" : \"dq[int(n/2)]\"\n",
    "}\n",
    "\n",
    "results = {_: [] for _ in op}\n",
    "for n in data:\n",
    "    for i,j in op.items():\n",
    "        code = f'from collections import deque; n = {n}; dq = deque(range(n))'\n",
    "        results[i].append(timeit(j, setup=code, number=1000))\n",
    "df = DataFrame(results, index=data)\n",
    "df = df.transpose()\n",
    "print(df)"
   ]
  },
  {
   "cell_type": "markdown",
   "metadata": {},
   "source": [
    "11. Explain what is Overallocation in lists.  "
   ]
  },
  {
   "cell_type": "markdown",
   "metadata": {},
   "source": [
    "In Python, overallocation refers to the practice of creating more space in an array than is currently needed. This strategy allows for efficient additions to the array, especially when the size of the data structure needs to expand due to new elements being added. When the limit of the current allocation is reached, Python automatically creates a larger array and transfers the elements to this new space. This method of managing memory helps balance between operational efficiency and memory usage, by making array append operations faster on average, even though they occasionally require more time and space when resizing. "
   ]
  }
 ],
 "metadata": {
  "kernelspec": {
   "display_name": ".tareasvenv",
   "language": "python",
   "name": "python3"
  },
  "language_info": {
   "codemirror_mode": {
    "name": "ipython",
    "version": 3
   },
   "file_extension": ".py",
   "mimetype": "text/x-python",
   "name": "python",
   "nbconvert_exporter": "python",
   "pygments_lexer": "ipython3",
   "version": "3.10.12"
  }
 },
 "nbformat": 4,
 "nbformat_minor": 2
}
