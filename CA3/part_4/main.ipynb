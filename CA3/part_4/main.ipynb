{
 "cells": [
  {
   "cell_type": "markdown",
   "metadata": {},
   "source": [
    "14. Read Rewriting the particle simulator in Numpy on Chapter 2: Fast Array Operations with Numpy and Pandas (pp. 68) from the book G. Lenaro (2017). Python high Performance. Second Edition. UK: Packt Publishing Ltd. Implement the improvements on the particle simulator using NumPy. Show that both implementations scale linearly with particle size, but the runtime in the pure Python version grows much faster than the NumPy version. "
   ]
  },
  {
   "cell_type": "code",
   "execution_count": 2,
   "metadata": {},
   "outputs": [],
   "source": [
    "import numpy as np\n",
    "from random import uniform\n",
    "from timeit import timeit\n",
    "\n",
    "class Particle:\n",
    "    def __init__(self, x, y, velocidad_angular):\n",
    "        self.x = x\n",
    "        self.y = y\n",
    "        self.velocidad_angular = velocidad_angular\n",
    "\n",
    "class ParticleSimulator:\n",
    "\n",
    "    def __init__(self, particles):\n",
    "        self.particles = particles\n",
    "\n",
    "    def evolve_python(self, dt):\n",
    "        timestep = 0.00001\n",
    "        nsteps = int(dt / timestep)\n",
    "        for i in range(nsteps):\n",
    "            for p in self.particles:\n",
    "                norm = (p.x**2 + p.y**2)**0.5\n",
    "                v_x = (-p.y) / norm\n",
    "                v_y = p.x / norm\n",
    "                d_x = timestep * p.velocidad_angular * v_x\n",
    "                d_y = timestep * p.velocidad_angular * v_y\n",
    "                p.x += d_x\n",
    "                p.y += d_y\n",
    "\n",
    "    def evolve_numpy(self, dt):\n",
    "        timestep = 0.00001\n",
    "        nsteps = int(dt / timestep)\n",
    "        r_i = np.array([[p.x, p.y] for p in self.particles])\n",
    "        velocidad_angular_i = np.array([p.velocidad_angular for p in self.particles])\n",
    "        for i in range(nsteps):\n",
    "            norm_i = np.sqrt((r_i ** 2).sum(axis=1))\n",
    "            v_i = r_i[:, [1, 0]] * np.array([-1, 1]) / norm_i[:, np.newaxis]\n",
    "            d_i = timestep * velocidad_angular_i[:, np.newaxis] * v_i\n",
    "            r_i += d_i\n",
    "        for i, p in enumerate(self.particles):\n",
    "            p.x, p.y = r_i[i]\n",
    "\n",
    " \n",
    "def benchmark(npart=1000, method='python'):\n",
    "    particles = [Particle(uniform(-1.0, 1.0), uniform(-1.0, 1.0), uniform(-1.0, 1.0)) for _ in range(npart)]\n",
    "    simulator = ParticleSimulator(particles)\n",
    "    if method == 'python':\n",
    "        simulator.evolve_python(0.1)\n",
    "    elif method == 'numpy':\n",
    "        simulator.evolve_numpy(0.1)"
   ]
  },
  {
   "cell_type": "code",
   "execution_count": 6,
   "metadata": {},
   "outputs": [
    {
     "name": "stdout",
     "output_type": "stream",
     "text": [
      "38.4 s ± 817 ms per loop (mean ± std. dev. of 7 runs, 1 loop each)\n"
     ]
    }
   ],
   "source": [
    "%timeit benchmark(10000, 'python')"
   ]
  },
  {
   "cell_type": "code",
   "execution_count": 7,
   "metadata": {},
   "outputs": [
    {
     "name": "stdout",
     "output_type": "stream",
     "text": [
      "2.11 s ± 56.5 ms per loop (mean ± std. dev. of 7 runs, 1 loop each)\n"
     ]
    }
   ],
   "source": [
    "%timeit benchmark(10000, 'numpy')"
   ]
  },
  {
   "cell_type": "markdown",
   "metadata": {},
   "source": [
    "15. Explain how to optain the optimal performance with numexpr. Read the section Reaching optimal performance with numexpr, pp. 72 from the previous reference.\n",
    "Implement it and measure the execution time."
   ]
  },
  {
   "cell_type": "code",
   "execution_count": 8,
   "metadata": {},
   "outputs": [
    {
     "name": "stdout",
     "output_type": "stream",
     "text": [
      "[[0.         0.36515394 0.96830487 ... 0.73152256 0.45752217 0.96973047]\n",
      " [0.36515394 0.         0.63638963 ... 0.61872088 0.25351813 0.65449158]\n",
      " [0.96830487 0.63638963 0.         ... 0.63888009 0.70609669 0.34589871]\n",
      " ...\n",
      " [0.73152256 0.61872088 0.63888009 ... 0.         0.61414093 0.58475264]\n",
      " [0.45752217 0.25351813 0.70609669 ... 0.61414093 0.         0.59025566]\n",
      " [0.96973047 0.65449158 0.34589871 ... 0.58475264 0.59025566 0.        ]]\n",
      "30.1 ms ± 3.23 ms per loop (mean ± std. dev. of 7 runs, 10 loops each)\n"
     ]
    }
   ],
   "source": [
    "import numexpr \n",
    "\n",
    "A = np.array([[0.0,0.0],[3.0,4.0]])\n",
    "n = 1000\n",
    "p = 3\n",
    "xs = np.random.random((n, p))\n",
    "\n",
    "def pdist_numpy(xs):\n",
    "    return np.sqrt(((xs[:,None,:] - xs)**2).sum(-1))\n",
    "\n",
    "print(pdist_numpy(xs))\n",
    "%timeit pdist_numpy(xs)"
   ]
  },
  {
   "cell_type": "code",
   "execution_count": 9,
   "metadata": {},
   "outputs": [
    {
     "name": "stdout",
     "output_type": "stream",
     "text": [
      "[[0.         0.36515394 0.96830487 ... 0.73152256 0.45752217 0.96973047]\n",
      " [0.36515394 0.         0.63638963 ... 0.61872088 0.25351813 0.65449158]\n",
      " [0.96830487 0.63638963 0.         ... 0.63888009 0.70609669 0.34589871]\n",
      " ...\n",
      " [0.73152256 0.61872088 0.63888009 ... 0.         0.61414093 0.58475264]\n",
      " [0.45752217 0.25351813 0.70609669 ... 0.61414093 0.         0.59025566]\n",
      " [0.96973047 0.65449158 0.34589871 ... 0.58475264 0.59025566 0.        ]]\n",
      "10.1 ms ± 1.94 ms per loop (mean ± std. dev. of 7 runs, 100 loops each)\n"
     ]
    }
   ],
   "source": [
    "def pdist_numexpr(xs):\n",
    "    a = xs[:, np.newaxis, :]\n",
    "    return np.sqrt(numexpr.evaluate('sum((a-xs)**2, axis=2)'))\n",
    "\n",
    "print(pdist_numexpr(xs))\n",
    "%timeit pdist_numexpr(xs)"
   ]
  }
 ],
 "metadata": {
  "kernelspec": {
   "display_name": ".tareasvenv",
   "language": "python",
   "name": "python3"
  },
  "language_info": {
   "codemirror_mode": {
    "name": "ipython",
    "version": 3
   },
   "file_extension": ".py",
   "mimetype": "text/x-python",
   "name": "python",
   "nbconvert_exporter": "python",
   "pygments_lexer": "ipython3",
   "version": "3.10.12"
  }
 },
 "nbformat": 4,
 "nbformat_minor": 2
}
